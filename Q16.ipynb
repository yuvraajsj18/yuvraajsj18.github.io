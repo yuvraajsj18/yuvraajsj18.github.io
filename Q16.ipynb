{
  "cells": [
    {
      "cell_type": "code",
      "execution_count": 36,
      "metadata": {
        "id": "WzDVb4ETm5NW"
      },
      "outputs": [],
      "source": [
        "from numpy import*\n",
        "import pandas as pd \n",
        "from sklearn.neural_network import MLPClassifier\n",
        "from sklearn.model_selection import train_test_split\n",
        "\n",
        "import warnings\n",
        "warnings.filterwarnings('ignore')"
      ]
    },
    {
      "cell_type": "code",
      "execution_count": 22,
      "metadata": {
        "id": "fntKQdnSm5Nd",
        "colab": {
          "resources": {
            "http://localhost:8080/nbextensions/google.colab/files.js": {
              "data": "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",
              "ok": true,
              "headers": [
                [
                  "content-type",
                  "application/javascript"
                ]
              ],
              "status": 200,
              "status_text": ""
            }
          },
          "base_uri": "https://localhost:8080/",
          "height": 73
        },
        "outputId": "d0275afb-d2dd-4ed2-c178-a668566c9f83"
      },
      "outputs": [
        {
          "output_type": "display_data",
          "data": {
            "text/plain": [
              "<IPython.core.display.HTML object>"
            ],
            "text/html": [
              "\n",
              "     <input type=\"file\" id=\"files-0648003a-7b93-4bf1-91f6-b95c25ad742d\" name=\"files[]\" multiple disabled\n",
              "        style=\"border:none\" />\n",
              "     <output id=\"result-0648003a-7b93-4bf1-91f6-b95c25ad742d\">\n",
              "      Upload widget is only available when the cell has been executed in the\n",
              "      current browser session. Please rerun this cell to enable.\n",
              "      </output>\n",
              "      <script src=\"/nbextensions/google.colab/files.js\"></script> "
            ]
          },
          "metadata": {}
        },
        {
          "output_type": "stream",
          "name": "stdout",
          "text": [
            "Saving diabetes.csv to diabetes.csv\n"
          ]
        }
      ],
      "source": [
        "from google.colab import files\n",
        "uploaded = files.upload()"
      ]
    },
    {
      "cell_type": "code",
      "source": [
        "import io\n",
        "df = pd.read_csv(io.StringIO(uploaded['diabetes.csv'].decode('utf-8')))"
      ],
      "metadata": {
        "id": "mOdyLUjBGyr6"
      },
      "execution_count": 23,
      "outputs": []
    },
    {
      "cell_type": "code",
      "source": [
        "df.head()"
      ],
      "metadata": {
        "colab": {
          "base_uri": "https://localhost:8080/",
          "height": 206
        },
        "id": "ln-z6tYOE-lL",
        "outputId": "5e5602ee-094b-44b3-d896-45e748830127"
      },
      "execution_count": 24,
      "outputs": [
        {
          "output_type": "execute_result",
          "data": {
            "text/plain": [
              "   Pregnancies  Glucose  BloodPressure  SkinThickness  Insulin   BMI  \\\n",
              "0            6      148             72             35        0  33.6   \n",
              "1            1       85             66             29        0  26.6   \n",
              "2            8      183             64              0        0  23.3   \n",
              "3            1       89             66             23       94  28.1   \n",
              "4            0      137             40             35      168  43.1   \n",
              "\n",
              "   DiabetesPedigreeFunction  Age  Outcome  \n",
              "0                     0.627   50        1  \n",
              "1                     0.351   31        0  \n",
              "2                     0.672   32        1  \n",
              "3                     0.167   21        0  \n",
              "4                     2.288   33        1  "
            ],
            "text/html": [
              "\n",
              "  <div id=\"df-59931d65-164c-42a2-8fac-7d51b64c8dd2\">\n",
              "    <div class=\"colab-df-container\">\n",
              "      <div>\n",
              "<style scoped>\n",
              "    .dataframe tbody tr th:only-of-type {\n",
              "        vertical-align: middle;\n",
              "    }\n",
              "\n",
              "    .dataframe tbody tr th {\n",
              "        vertical-align: top;\n",
              "    }\n",
              "\n",
              "    .dataframe thead th {\n",
              "        text-align: right;\n",
              "    }\n",
              "</style>\n",
              "<table border=\"1\" class=\"dataframe\">\n",
              "  <thead>\n",
              "    <tr style=\"text-align: right;\">\n",
              "      <th></th>\n",
              "      <th>Pregnancies</th>\n",
              "      <th>Glucose</th>\n",
              "      <th>BloodPressure</th>\n",
              "      <th>SkinThickness</th>\n",
              "      <th>Insulin</th>\n",
              "      <th>BMI</th>\n",
              "      <th>DiabetesPedigreeFunction</th>\n",
              "      <th>Age</th>\n",
              "      <th>Outcome</th>\n",
              "    </tr>\n",
              "  </thead>\n",
              "  <tbody>\n",
              "    <tr>\n",
              "      <th>0</th>\n",
              "      <td>6</td>\n",
              "      <td>148</td>\n",
              "      <td>72</td>\n",
              "      <td>35</td>\n",
              "      <td>0</td>\n",
              "      <td>33.6</td>\n",
              "      <td>0.627</td>\n",
              "      <td>50</td>\n",
              "      <td>1</td>\n",
              "    </tr>\n",
              "    <tr>\n",
              "      <th>1</th>\n",
              "      <td>1</td>\n",
              "      <td>85</td>\n",
              "      <td>66</td>\n",
              "      <td>29</td>\n",
              "      <td>0</td>\n",
              "      <td>26.6</td>\n",
              "      <td>0.351</td>\n",
              "      <td>31</td>\n",
              "      <td>0</td>\n",
              "    </tr>\n",
              "    <tr>\n",
              "      <th>2</th>\n",
              "      <td>8</td>\n",
              "      <td>183</td>\n",
              "      <td>64</td>\n",
              "      <td>0</td>\n",
              "      <td>0</td>\n",
              "      <td>23.3</td>\n",
              "      <td>0.672</td>\n",
              "      <td>32</td>\n",
              "      <td>1</td>\n",
              "    </tr>\n",
              "    <tr>\n",
              "      <th>3</th>\n",
              "      <td>1</td>\n",
              "      <td>89</td>\n",
              "      <td>66</td>\n",
              "      <td>23</td>\n",
              "      <td>94</td>\n",
              "      <td>28.1</td>\n",
              "      <td>0.167</td>\n",
              "      <td>21</td>\n",
              "      <td>0</td>\n",
              "    </tr>\n",
              "    <tr>\n",
              "      <th>4</th>\n",
              "      <td>0</td>\n",
              "      <td>137</td>\n",
              "      <td>40</td>\n",
              "      <td>35</td>\n",
              "      <td>168</td>\n",
              "      <td>43.1</td>\n",
              "      <td>2.288</td>\n",
              "      <td>33</td>\n",
              "      <td>1</td>\n",
              "    </tr>\n",
              "  </tbody>\n",
              "</table>\n",
              "</div>\n",
              "      <button class=\"colab-df-convert\" onclick=\"convertToInteractive('df-59931d65-164c-42a2-8fac-7d51b64c8dd2')\"\n",
              "              title=\"Convert this dataframe to an interactive table.\"\n",
              "              style=\"display:none;\">\n",
              "        \n",
              "  <svg xmlns=\"http://www.w3.org/2000/svg\" height=\"24px\"viewBox=\"0 0 24 24\"\n",
              "       width=\"24px\">\n",
              "    <path d=\"M0 0h24v24H0V0z\" fill=\"none\"/>\n",
              "    <path d=\"M18.56 5.44l.94 2.06.94-2.06 2.06-.94-2.06-.94-.94-2.06-.94 2.06-2.06.94zm-11 1L8.5 8.5l.94-2.06 2.06-.94-2.06-.94L8.5 2.5l-.94 2.06-2.06.94zm10 10l.94 2.06.94-2.06 2.06-.94-2.06-.94-.94-2.06-.94 2.06-2.06.94z\"/><path d=\"M17.41 7.96l-1.37-1.37c-.4-.4-.92-.59-1.43-.59-.52 0-1.04.2-1.43.59L10.3 9.45l-7.72 7.72c-.78.78-.78 2.05 0 2.83L4 21.41c.39.39.9.59 1.41.59.51 0 1.02-.2 1.41-.59l7.78-7.78 2.81-2.81c.8-.78.8-2.07 0-2.86zM5.41 20L4 18.59l7.72-7.72 1.47 1.35L5.41 20z\"/>\n",
              "  </svg>\n",
              "      </button>\n",
              "      \n",
              "  <style>\n",
              "    .colab-df-container {\n",
              "      display:flex;\n",
              "      flex-wrap:wrap;\n",
              "      gap: 12px;\n",
              "    }\n",
              "\n",
              "    .colab-df-convert {\n",
              "      background-color: #E8F0FE;\n",
              "      border: none;\n",
              "      border-radius: 50%;\n",
              "      cursor: pointer;\n",
              "      display: none;\n",
              "      fill: #1967D2;\n",
              "      height: 32px;\n",
              "      padding: 0 0 0 0;\n",
              "      width: 32px;\n",
              "    }\n",
              "\n",
              "    .colab-df-convert:hover {\n",
              "      background-color: #E2EBFA;\n",
              "      box-shadow: 0px 1px 2px rgba(60, 64, 67, 0.3), 0px 1px 3px 1px rgba(60, 64, 67, 0.15);\n",
              "      fill: #174EA6;\n",
              "    }\n",
              "\n",
              "    [theme=dark] .colab-df-convert {\n",
              "      background-color: #3B4455;\n",
              "      fill: #D2E3FC;\n",
              "    }\n",
              "\n",
              "    [theme=dark] .colab-df-convert:hover {\n",
              "      background-color: #434B5C;\n",
              "      box-shadow: 0px 1px 3px 1px rgba(0, 0, 0, 0.15);\n",
              "      filter: drop-shadow(0px 1px 2px rgba(0, 0, 0, 0.3));\n",
              "      fill: #FFFFFF;\n",
              "    }\n",
              "  </style>\n",
              "\n",
              "      <script>\n",
              "        const buttonEl =\n",
              "          document.querySelector('#df-59931d65-164c-42a2-8fac-7d51b64c8dd2 button.colab-df-convert');\n",
              "        buttonEl.style.display =\n",
              "          google.colab.kernel.accessAllowed ? 'block' : 'none';\n",
              "\n",
              "        async function convertToInteractive(key) {\n",
              "          const element = document.querySelector('#df-59931d65-164c-42a2-8fac-7d51b64c8dd2');\n",
              "          const dataTable =\n",
              "            await google.colab.kernel.invokeFunction('convertToInteractive',\n",
              "                                                     [key], {});\n",
              "          if (!dataTable) return;\n",
              "\n",
              "          const docLinkHtml = 'Like what you see? Visit the ' +\n",
              "            '<a target=\"_blank\" href=https://colab.research.google.com/notebooks/data_table.ipynb>data table notebook</a>'\n",
              "            + ' to learn more about interactive tables.';\n",
              "          element.innerHTML = '';\n",
              "          dataTable['output_type'] = 'display_data';\n",
              "          await google.colab.output.renderOutput(dataTable, element);\n",
              "          const docLink = document.createElement('div');\n",
              "          docLink.innerHTML = docLinkHtml;\n",
              "          element.appendChild(docLink);\n",
              "        }\n",
              "      </script>\n",
              "    </div>\n",
              "  </div>\n",
              "  "
            ]
          },
          "metadata": {},
          "execution_count": 24
        }
      ]
    },
    {
      "cell_type": "code",
      "source": [
        "df.describe().transpose()"
      ],
      "metadata": {
        "colab": {
          "base_uri": "https://localhost:8080/",
          "height": 332
        },
        "id": "S8eoawSGE-s1",
        "outputId": "66c858f0-cb60-4775-d253-a102a6248790"
      },
      "execution_count": 25,
      "outputs": [
        {
          "output_type": "execute_result",
          "data": {
            "text/plain": [
              "                          count        mean         std     min       25%  \\\n",
              "Pregnancies               768.0    3.845052    3.369578   0.000   1.00000   \n",
              "Glucose                   768.0  120.894531   31.972618   0.000  99.00000   \n",
              "BloodPressure             768.0   69.105469   19.355807   0.000  62.00000   \n",
              "SkinThickness             768.0   20.536458   15.952218   0.000   0.00000   \n",
              "Insulin                   768.0   79.799479  115.244002   0.000   0.00000   \n",
              "BMI                       768.0   31.992578    7.884160   0.000  27.30000   \n",
              "DiabetesPedigreeFunction  768.0    0.471876    0.331329   0.078   0.24375   \n",
              "Age                       768.0   33.240885   11.760232  21.000  24.00000   \n",
              "Outcome                   768.0    0.348958    0.476951   0.000   0.00000   \n",
              "\n",
              "                               50%        75%     max  \n",
              "Pregnancies                 3.0000    6.00000   17.00  \n",
              "Glucose                   117.0000  140.25000  199.00  \n",
              "BloodPressure              72.0000   80.00000  122.00  \n",
              "SkinThickness              23.0000   32.00000   99.00  \n",
              "Insulin                    30.5000  127.25000  846.00  \n",
              "BMI                        32.0000   36.60000   67.10  \n",
              "DiabetesPedigreeFunction    0.3725    0.62625    2.42  \n",
              "Age                        29.0000   41.00000   81.00  \n",
              "Outcome                     0.0000    1.00000    1.00  "
            ],
            "text/html": [
              "\n",
              "  <div id=\"df-5ea5fbfc-6e97-42cf-9052-c6bca49c5d71\">\n",
              "    <div class=\"colab-df-container\">\n",
              "      <div>\n",
              "<style scoped>\n",
              "    .dataframe tbody tr th:only-of-type {\n",
              "        vertical-align: middle;\n",
              "    }\n",
              "\n",
              "    .dataframe tbody tr th {\n",
              "        vertical-align: top;\n",
              "    }\n",
              "\n",
              "    .dataframe thead th {\n",
              "        text-align: right;\n",
              "    }\n",
              "</style>\n",
              "<table border=\"1\" class=\"dataframe\">\n",
              "  <thead>\n",
              "    <tr style=\"text-align: right;\">\n",
              "      <th></th>\n",
              "      <th>count</th>\n",
              "      <th>mean</th>\n",
              "      <th>std</th>\n",
              "      <th>min</th>\n",
              "      <th>25%</th>\n",
              "      <th>50%</th>\n",
              "      <th>75%</th>\n",
              "      <th>max</th>\n",
              "    </tr>\n",
              "  </thead>\n",
              "  <tbody>\n",
              "    <tr>\n",
              "      <th>Pregnancies</th>\n",
              "      <td>768.0</td>\n",
              "      <td>3.845052</td>\n",
              "      <td>3.369578</td>\n",
              "      <td>0.000</td>\n",
              "      <td>1.00000</td>\n",
              "      <td>3.0000</td>\n",
              "      <td>6.00000</td>\n",
              "      <td>17.00</td>\n",
              "    </tr>\n",
              "    <tr>\n",
              "      <th>Glucose</th>\n",
              "      <td>768.0</td>\n",
              "      <td>120.894531</td>\n",
              "      <td>31.972618</td>\n",
              "      <td>0.000</td>\n",
              "      <td>99.00000</td>\n",
              "      <td>117.0000</td>\n",
              "      <td>140.25000</td>\n",
              "      <td>199.00</td>\n",
              "    </tr>\n",
              "    <tr>\n",
              "      <th>BloodPressure</th>\n",
              "      <td>768.0</td>\n",
              "      <td>69.105469</td>\n",
              "      <td>19.355807</td>\n",
              "      <td>0.000</td>\n",
              "      <td>62.00000</td>\n",
              "      <td>72.0000</td>\n",
              "      <td>80.00000</td>\n",
              "      <td>122.00</td>\n",
              "    </tr>\n",
              "    <tr>\n",
              "      <th>SkinThickness</th>\n",
              "      <td>768.0</td>\n",
              "      <td>20.536458</td>\n",
              "      <td>15.952218</td>\n",
              "      <td>0.000</td>\n",
              "      <td>0.00000</td>\n",
              "      <td>23.0000</td>\n",
              "      <td>32.00000</td>\n",
              "      <td>99.00</td>\n",
              "    </tr>\n",
              "    <tr>\n",
              "      <th>Insulin</th>\n",
              "      <td>768.0</td>\n",
              "      <td>79.799479</td>\n",
              "      <td>115.244002</td>\n",
              "      <td>0.000</td>\n",
              "      <td>0.00000</td>\n",
              "      <td>30.5000</td>\n",
              "      <td>127.25000</td>\n",
              "      <td>846.00</td>\n",
              "    </tr>\n",
              "    <tr>\n",
              "      <th>BMI</th>\n",
              "      <td>768.0</td>\n",
              "      <td>31.992578</td>\n",
              "      <td>7.884160</td>\n",
              "      <td>0.000</td>\n",
              "      <td>27.30000</td>\n",
              "      <td>32.0000</td>\n",
              "      <td>36.60000</td>\n",
              "      <td>67.10</td>\n",
              "    </tr>\n",
              "    <tr>\n",
              "      <th>DiabetesPedigreeFunction</th>\n",
              "      <td>768.0</td>\n",
              "      <td>0.471876</td>\n",
              "      <td>0.331329</td>\n",
              "      <td>0.078</td>\n",
              "      <td>0.24375</td>\n",
              "      <td>0.3725</td>\n",
              "      <td>0.62625</td>\n",
              "      <td>2.42</td>\n",
              "    </tr>\n",
              "    <tr>\n",
              "      <th>Age</th>\n",
              "      <td>768.0</td>\n",
              "      <td>33.240885</td>\n",
              "      <td>11.760232</td>\n",
              "      <td>21.000</td>\n",
              "      <td>24.00000</td>\n",
              "      <td>29.0000</td>\n",
              "      <td>41.00000</td>\n",
              "      <td>81.00</td>\n",
              "    </tr>\n",
              "    <tr>\n",
              "      <th>Outcome</th>\n",
              "      <td>768.0</td>\n",
              "      <td>0.348958</td>\n",
              "      <td>0.476951</td>\n",
              "      <td>0.000</td>\n",
              "      <td>0.00000</td>\n",
              "      <td>0.0000</td>\n",
              "      <td>1.00000</td>\n",
              "      <td>1.00</td>\n",
              "    </tr>\n",
              "  </tbody>\n",
              "</table>\n",
              "</div>\n",
              "      <button class=\"colab-df-convert\" onclick=\"convertToInteractive('df-5ea5fbfc-6e97-42cf-9052-c6bca49c5d71')\"\n",
              "              title=\"Convert this dataframe to an interactive table.\"\n",
              "              style=\"display:none;\">\n",
              "        \n",
              "  <svg xmlns=\"http://www.w3.org/2000/svg\" height=\"24px\"viewBox=\"0 0 24 24\"\n",
              "       width=\"24px\">\n",
              "    <path d=\"M0 0h24v24H0V0z\" fill=\"none\"/>\n",
              "    <path d=\"M18.56 5.44l.94 2.06.94-2.06 2.06-.94-2.06-.94-.94-2.06-.94 2.06-2.06.94zm-11 1L8.5 8.5l.94-2.06 2.06-.94-2.06-.94L8.5 2.5l-.94 2.06-2.06.94zm10 10l.94 2.06.94-2.06 2.06-.94-2.06-.94-.94-2.06-.94 2.06-2.06.94z\"/><path d=\"M17.41 7.96l-1.37-1.37c-.4-.4-.92-.59-1.43-.59-.52 0-1.04.2-1.43.59L10.3 9.45l-7.72 7.72c-.78.78-.78 2.05 0 2.83L4 21.41c.39.39.9.59 1.41.59.51 0 1.02-.2 1.41-.59l7.78-7.78 2.81-2.81c.8-.78.8-2.07 0-2.86zM5.41 20L4 18.59l7.72-7.72 1.47 1.35L5.41 20z\"/>\n",
              "  </svg>\n",
              "      </button>\n",
              "      \n",
              "  <style>\n",
              "    .colab-df-container {\n",
              "      display:flex;\n",
              "      flex-wrap:wrap;\n",
              "      gap: 12px;\n",
              "    }\n",
              "\n",
              "    .colab-df-convert {\n",
              "      background-color: #E8F0FE;\n",
              "      border: none;\n",
              "      border-radius: 50%;\n",
              "      cursor: pointer;\n",
              "      display: none;\n",
              "      fill: #1967D2;\n",
              "      height: 32px;\n",
              "      padding: 0 0 0 0;\n",
              "      width: 32px;\n",
              "    }\n",
              "\n",
              "    .colab-df-convert:hover {\n",
              "      background-color: #E2EBFA;\n",
              "      box-shadow: 0px 1px 2px rgba(60, 64, 67, 0.3), 0px 1px 3px 1px rgba(60, 64, 67, 0.15);\n",
              "      fill: #174EA6;\n",
              "    }\n",
              "\n",
              "    [theme=dark] .colab-df-convert {\n",
              "      background-color: #3B4455;\n",
              "      fill: #D2E3FC;\n",
              "    }\n",
              "\n",
              "    [theme=dark] .colab-df-convert:hover {\n",
              "      background-color: #434B5C;\n",
              "      box-shadow: 0px 1px 3px 1px rgba(0, 0, 0, 0.15);\n",
              "      filter: drop-shadow(0px 1px 2px rgba(0, 0, 0, 0.3));\n",
              "      fill: #FFFFFF;\n",
              "    }\n",
              "  </style>\n",
              "\n",
              "      <script>\n",
              "        const buttonEl =\n",
              "          document.querySelector('#df-5ea5fbfc-6e97-42cf-9052-c6bca49c5d71 button.colab-df-convert');\n",
              "        buttonEl.style.display =\n",
              "          google.colab.kernel.accessAllowed ? 'block' : 'none';\n",
              "\n",
              "        async function convertToInteractive(key) {\n",
              "          const element = document.querySelector('#df-5ea5fbfc-6e97-42cf-9052-c6bca49c5d71');\n",
              "          const dataTable =\n",
              "            await google.colab.kernel.invokeFunction('convertToInteractive',\n",
              "                                                     [key], {});\n",
              "          if (!dataTable) return;\n",
              "\n",
              "          const docLinkHtml = 'Like what you see? Visit the ' +\n",
              "            '<a target=\"_blank\" href=https://colab.research.google.com/notebooks/data_table.ipynb>data table notebook</a>'\n",
              "            + ' to learn more about interactive tables.';\n",
              "          element.innerHTML = '';\n",
              "          dataTable['output_type'] = 'display_data';\n",
              "          await google.colab.output.renderOutput(dataTable, element);\n",
              "          const docLink = document.createElement('div');\n",
              "          docLink.innerHTML = docLinkHtml;\n",
              "          element.appendChild(docLink);\n",
              "        }\n",
              "      </script>\n",
              "    </div>\n",
              "  </div>\n",
              "  "
            ]
          },
          "metadata": {},
          "execution_count": 25
        }
      ]
    },
    {
      "cell_type": "code",
      "source": [
        "df.shape"
      ],
      "metadata": {
        "colab": {
          "base_uri": "https://localhost:8080/"
        },
        "id": "_qcK1vVgG9Uy",
        "outputId": "a15bbe84-0a96-44e2-d962-fbef7f644d1b"
      },
      "execution_count": 26,
      "outputs": [
        {
          "output_type": "execute_result",
          "data": {
            "text/plain": [
              "(768, 9)"
            ]
          },
          "metadata": {},
          "execution_count": 26
        }
      ]
    },
    {
      "cell_type": "code",
      "source": [
        "#Creating Arrays for the Features and the Response Variable\n",
        "target_column = ['Outcome'] \n",
        "predictors = list(set(list(df.columns))-set(target_column))\n",
        "df[predictors] = df[predictors]/df[predictors].max()\n",
        "df.describe().transpose()"
      ],
      "metadata": {
        "colab": {
          "base_uri": "https://localhost:8080/",
          "height": 332
        },
        "id": "BAkRxg6hG-65",
        "outputId": "f95e4f5c-08c3-4141-e8bf-5ce7d94aa7c6"
      },
      "execution_count": 30,
      "outputs": [
        {
          "output_type": "execute_result",
          "data": {
            "text/plain": [
              "                          count      mean       std       min       25%  \\\n",
              "Pregnancies               768.0  0.226180  0.198210  0.000000  0.058824   \n",
              "Glucose                   768.0  0.607510  0.160666  0.000000  0.497487   \n",
              "BloodPressure             768.0  0.566438  0.158654  0.000000  0.508197   \n",
              "SkinThickness             768.0  0.207439  0.161134  0.000000  0.000000   \n",
              "Insulin                   768.0  0.094326  0.136222  0.000000  0.000000   \n",
              "BMI                       768.0  0.476790  0.117499  0.000000  0.406855   \n",
              "DiabetesPedigreeFunction  768.0  0.194990  0.136913  0.032231  0.100723   \n",
              "Age                       768.0  0.410381  0.145188  0.259259  0.296296   \n",
              "Outcome                   768.0  0.348958  0.476951  0.000000  0.000000   \n",
              "\n",
              "                               50%       75%  max  \n",
              "Pregnancies               0.176471  0.352941  1.0  \n",
              "Glucose                   0.587940  0.704774  1.0  \n",
              "BloodPressure             0.590164  0.655738  1.0  \n",
              "SkinThickness             0.232323  0.323232  1.0  \n",
              "Insulin                   0.036052  0.150414  1.0  \n",
              "BMI                       0.476900  0.545455  1.0  \n",
              "DiabetesPedigreeFunction  0.153926  0.258781  1.0  \n",
              "Age                       0.358025  0.506173  1.0  \n",
              "Outcome                   0.000000  1.000000  1.0  "
            ],
            "text/html": [
              "\n",
              "  <div id=\"df-764c0849-6456-4947-9f9d-6e32f8681aad\">\n",
              "    <div class=\"colab-df-container\">\n",
              "      <div>\n",
              "<style scoped>\n",
              "    .dataframe tbody tr th:only-of-type {\n",
              "        vertical-align: middle;\n",
              "    }\n",
              "\n",
              "    .dataframe tbody tr th {\n",
              "        vertical-align: top;\n",
              "    }\n",
              "\n",
              "    .dataframe thead th {\n",
              "        text-align: right;\n",
              "    }\n",
              "</style>\n",
              "<table border=\"1\" class=\"dataframe\">\n",
              "  <thead>\n",
              "    <tr style=\"text-align: right;\">\n",
              "      <th></th>\n",
              "      <th>count</th>\n",
              "      <th>mean</th>\n",
              "      <th>std</th>\n",
              "      <th>min</th>\n",
              "      <th>25%</th>\n",
              "      <th>50%</th>\n",
              "      <th>75%</th>\n",
              "      <th>max</th>\n",
              "    </tr>\n",
              "  </thead>\n",
              "  <tbody>\n",
              "    <tr>\n",
              "      <th>Pregnancies</th>\n",
              "      <td>768.0</td>\n",
              "      <td>0.226180</td>\n",
              "      <td>0.198210</td>\n",
              "      <td>0.000000</td>\n",
              "      <td>0.058824</td>\n",
              "      <td>0.176471</td>\n",
              "      <td>0.352941</td>\n",
              "      <td>1.0</td>\n",
              "    </tr>\n",
              "    <tr>\n",
              "      <th>Glucose</th>\n",
              "      <td>768.0</td>\n",
              "      <td>0.607510</td>\n",
              "      <td>0.160666</td>\n",
              "      <td>0.000000</td>\n",
              "      <td>0.497487</td>\n",
              "      <td>0.587940</td>\n",
              "      <td>0.704774</td>\n",
              "      <td>1.0</td>\n",
              "    </tr>\n",
              "    <tr>\n",
              "      <th>BloodPressure</th>\n",
              "      <td>768.0</td>\n",
              "      <td>0.566438</td>\n",
              "      <td>0.158654</td>\n",
              "      <td>0.000000</td>\n",
              "      <td>0.508197</td>\n",
              "      <td>0.590164</td>\n",
              "      <td>0.655738</td>\n",
              "      <td>1.0</td>\n",
              "    </tr>\n",
              "    <tr>\n",
              "      <th>SkinThickness</th>\n",
              "      <td>768.0</td>\n",
              "      <td>0.207439</td>\n",
              "      <td>0.161134</td>\n",
              "      <td>0.000000</td>\n",
              "      <td>0.000000</td>\n",
              "      <td>0.232323</td>\n",
              "      <td>0.323232</td>\n",
              "      <td>1.0</td>\n",
              "    </tr>\n",
              "    <tr>\n",
              "      <th>Insulin</th>\n",
              "      <td>768.0</td>\n",
              "      <td>0.094326</td>\n",
              "      <td>0.136222</td>\n",
              "      <td>0.000000</td>\n",
              "      <td>0.000000</td>\n",
              "      <td>0.036052</td>\n",
              "      <td>0.150414</td>\n",
              "      <td>1.0</td>\n",
              "    </tr>\n",
              "    <tr>\n",
              "      <th>BMI</th>\n",
              "      <td>768.0</td>\n",
              "      <td>0.476790</td>\n",
              "      <td>0.117499</td>\n",
              "      <td>0.000000</td>\n",
              "      <td>0.406855</td>\n",
              "      <td>0.476900</td>\n",
              "      <td>0.545455</td>\n",
              "      <td>1.0</td>\n",
              "    </tr>\n",
              "    <tr>\n",
              "      <th>DiabetesPedigreeFunction</th>\n",
              "      <td>768.0</td>\n",
              "      <td>0.194990</td>\n",
              "      <td>0.136913</td>\n",
              "      <td>0.032231</td>\n",
              "      <td>0.100723</td>\n",
              "      <td>0.153926</td>\n",
              "      <td>0.258781</td>\n",
              "      <td>1.0</td>\n",
              "    </tr>\n",
              "    <tr>\n",
              "      <th>Age</th>\n",
              "      <td>768.0</td>\n",
              "      <td>0.410381</td>\n",
              "      <td>0.145188</td>\n",
              "      <td>0.259259</td>\n",
              "      <td>0.296296</td>\n",
              "      <td>0.358025</td>\n",
              "      <td>0.506173</td>\n",
              "      <td>1.0</td>\n",
              "    </tr>\n",
              "    <tr>\n",
              "      <th>Outcome</th>\n",
              "      <td>768.0</td>\n",
              "      <td>0.348958</td>\n",
              "      <td>0.476951</td>\n",
              "      <td>0.000000</td>\n",
              "      <td>0.000000</td>\n",
              "      <td>0.000000</td>\n",
              "      <td>1.000000</td>\n",
              "      <td>1.0</td>\n",
              "    </tr>\n",
              "  </tbody>\n",
              "</table>\n",
              "</div>\n",
              "      <button class=\"colab-df-convert\" onclick=\"convertToInteractive('df-764c0849-6456-4947-9f9d-6e32f8681aad')\"\n",
              "              title=\"Convert this dataframe to an interactive table.\"\n",
              "              style=\"display:none;\">\n",
              "        \n",
              "  <svg xmlns=\"http://www.w3.org/2000/svg\" height=\"24px\"viewBox=\"0 0 24 24\"\n",
              "       width=\"24px\">\n",
              "    <path d=\"M0 0h24v24H0V0z\" fill=\"none\"/>\n",
              "    <path d=\"M18.56 5.44l.94 2.06.94-2.06 2.06-.94-2.06-.94-.94-2.06-.94 2.06-2.06.94zm-11 1L8.5 8.5l.94-2.06 2.06-.94-2.06-.94L8.5 2.5l-.94 2.06-2.06.94zm10 10l.94 2.06.94-2.06 2.06-.94-2.06-.94-.94-2.06-.94 2.06-2.06.94z\"/><path d=\"M17.41 7.96l-1.37-1.37c-.4-.4-.92-.59-1.43-.59-.52 0-1.04.2-1.43.59L10.3 9.45l-7.72 7.72c-.78.78-.78 2.05 0 2.83L4 21.41c.39.39.9.59 1.41.59.51 0 1.02-.2 1.41-.59l7.78-7.78 2.81-2.81c.8-.78.8-2.07 0-2.86zM5.41 20L4 18.59l7.72-7.72 1.47 1.35L5.41 20z\"/>\n",
              "  </svg>\n",
              "      </button>\n",
              "      \n",
              "  <style>\n",
              "    .colab-df-container {\n",
              "      display:flex;\n",
              "      flex-wrap:wrap;\n",
              "      gap: 12px;\n",
              "    }\n",
              "\n",
              "    .colab-df-convert {\n",
              "      background-color: #E8F0FE;\n",
              "      border: none;\n",
              "      border-radius: 50%;\n",
              "      cursor: pointer;\n",
              "      display: none;\n",
              "      fill: #1967D2;\n",
              "      height: 32px;\n",
              "      padding: 0 0 0 0;\n",
              "      width: 32px;\n",
              "    }\n",
              "\n",
              "    .colab-df-convert:hover {\n",
              "      background-color: #E2EBFA;\n",
              "      box-shadow: 0px 1px 2px rgba(60, 64, 67, 0.3), 0px 1px 3px 1px rgba(60, 64, 67, 0.15);\n",
              "      fill: #174EA6;\n",
              "    }\n",
              "\n",
              "    [theme=dark] .colab-df-convert {\n",
              "      background-color: #3B4455;\n",
              "      fill: #D2E3FC;\n",
              "    }\n",
              "\n",
              "    [theme=dark] .colab-df-convert:hover {\n",
              "      background-color: #434B5C;\n",
              "      box-shadow: 0px 1px 3px 1px rgba(0, 0, 0, 0.15);\n",
              "      filter: drop-shadow(0px 1px 2px rgba(0, 0, 0, 0.3));\n",
              "      fill: #FFFFFF;\n",
              "    }\n",
              "  </style>\n",
              "\n",
              "      <script>\n",
              "        const buttonEl =\n",
              "          document.querySelector('#df-764c0849-6456-4947-9f9d-6e32f8681aad button.colab-df-convert');\n",
              "        buttonEl.style.display =\n",
              "          google.colab.kernel.accessAllowed ? 'block' : 'none';\n",
              "\n",
              "        async function convertToInteractive(key) {\n",
              "          const element = document.querySelector('#df-764c0849-6456-4947-9f9d-6e32f8681aad');\n",
              "          const dataTable =\n",
              "            await google.colab.kernel.invokeFunction('convertToInteractive',\n",
              "                                                     [key], {});\n",
              "          if (!dataTable) return;\n",
              "\n",
              "          const docLinkHtml = 'Like what you see? Visit the ' +\n",
              "            '<a target=\"_blank\" href=https://colab.research.google.com/notebooks/data_table.ipynb>data table notebook</a>'\n",
              "            + ' to learn more about interactive tables.';\n",
              "          element.innerHTML = '';\n",
              "          dataTable['output_type'] = 'display_data';\n",
              "          await google.colab.output.renderOutput(dataTable, element);\n",
              "          const docLink = document.createElement('div');\n",
              "          docLink.innerHTML = docLinkHtml;\n",
              "          element.appendChild(docLink);\n",
              "        }\n",
              "      </script>\n",
              "    </div>\n",
              "  </div>\n",
              "  "
            ]
          },
          "metadata": {},
          "execution_count": 30
        }
      ]
    },
    {
      "cell_type": "code",
      "source": [
        "#Creating the Training and Test Datasets\n",
        "X = df[predictors].values\n",
        "y = df[target_column].values\n",
        "\n",
        "X_train, X_test, y_train, y_test = train_test_split(X, y, test_size=0.30, random_state=40)\n",
        "print(X_train.shape); print(X_test.shape)"
      ],
      "metadata": {
        "colab": {
          "base_uri": "https://localhost:8080/"
        },
        "id": "7pQ9Y19oHfJX",
        "outputId": "40caf412-e743-4c5e-b415-458707375d20"
      },
      "execution_count": 31,
      "outputs": [
        {
          "output_type": "stream",
          "name": "stdout",
          "text": [
            "(537, 8)\n",
            "(231, 8)\n"
          ]
        }
      ]
    },
    {
      "cell_type": "markdown",
      "source": [
        "# Building, Predicting, and Evaluating the Neural Network Model"
      ],
      "metadata": {
        "id": "dGj1gIOiIG1D"
      }
    },
    {
      "cell_type": "markdown",
      "source": [
        "![image.png](data:image/png;base64,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)"
      ],
      "metadata": {
        "id": "9Afl12uUIc1P"
      }
    },
    {
      "cell_type": "code",
      "execution_count": 32,
      "metadata": {
        "id": "FoYo-crAm5Nf"
      },
      "outputs": [],
      "source": [
        "mlp = MLPClassifier(hidden_layer_sizes=(8,8), activation='relu', solver='sgd', max_iter=500)"
      ]
    },
    {
      "cell_type": "code",
      "execution_count": 33,
      "metadata": {
        "colab": {
          "base_uri": "https://localhost:8080/"
        },
        "id": "gpSM15n8m5Ng",
        "outputId": "63f6477c-8a71-4aa6-9e72-93014cc87e88"
      },
      "outputs": [
        {
          "output_type": "stream",
          "name": "stderr",
          "text": [
            "/usr/local/lib/python3.7/dist-packages/sklearn/neural_network/_multilayer_perceptron.py:1109: DataConversionWarning: A column-vector y was passed when a 1d array was expected. Please change the shape of y to (n_samples, ), for example using ravel().\n",
            "  y = column_or_1d(y, warn=True)\n"
          ]
        },
        {
          "output_type": "execute_result",
          "data": {
            "text/plain": [
              "MLPClassifier(hidden_layer_sizes=(8, 8), max_iter=500, solver='sgd')"
            ]
          },
          "metadata": {},
          "execution_count": 33
        }
      ],
      "source": [
        "mlp.fit(X_train,y_train)"
      ]
    },
    {
      "cell_type": "code",
      "execution_count": 34,
      "metadata": {
        "id": "IP0Vgi09m5Nh"
      },
      "outputs": [],
      "source": [
        "predict_train = mlp.predict(X_train)\n",
        "predict_test = mlp.predict(X_test)"
      ]
    },
    {
      "cell_type": "code",
      "execution_count": 37,
      "metadata": {
        "colab": {
          "base_uri": "https://localhost:8080/"
        },
        "id": "8Jk3esSNm5Nh",
        "outputId": "6f877f99-e05a-40ae-90e2-2f058b35044c"
      },
      "outputs": [
        {
          "output_type": "stream",
          "name": "stdout",
          "text": [
            "[[358   0]\n",
            " [179   0]]\n",
            "              precision    recall  f1-score   support\n",
            "\n",
            "         0.0       0.67      1.00      0.80       358\n",
            "         1.0       0.00      0.00      0.00       179\n",
            "\n",
            "    accuracy                           0.67       537\n",
            "   macro avg       0.33      0.50      0.40       537\n",
            "weighted avg       0.44      0.67      0.53       537\n",
            "\n"
          ]
        }
      ],
      "source": [
        "from sklearn.metrics import classification_report,confusion_matrix\n",
        "print(confusion_matrix(y_train,predict_train))\n",
        "print(classification_report(y_train,predict_train))"
      ]
    },
    {
      "cell_type": "code",
      "execution_count": 38,
      "metadata": {
        "id": "qdJxnJvvm5Ni",
        "colab": {
          "base_uri": "https://localhost:8080/"
        },
        "outputId": "38b7ca1c-f467-4137-feda-4abe78da4f4a"
      },
      "outputs": [
        {
          "output_type": "stream",
          "name": "stdout",
          "text": [
            "[[142   0]\n",
            " [ 89   0]]\n",
            "              precision    recall  f1-score   support\n",
            "\n",
            "         0.0       0.61      1.00      0.76       142\n",
            "         1.0       0.00      0.00      0.00        89\n",
            "\n",
            "    accuracy                           0.61       231\n",
            "   macro avg       0.31      0.50      0.38       231\n",
            "weighted avg       0.38      0.61      0.47       231\n",
            "\n"
          ]
        }
      ],
      "source": [
        "#The next step is to evaluate the performance of the model on the test data that is done with the lines of code below.\n",
        "\n",
        "print(confusion_matrix(y_test,predict_test))\n",
        "print(classification_report(y_test,predict_test))"
      ]
    }
  ],
  "metadata": {
    "kernelspec": {
      "display_name": "Python 3",
      "language": "python",
      "name": "python3"
    },
    "language_info": {
      "codemirror_mode": {
        "name": "ipython",
        "version": 3
      },
      "file_extension": ".py",
      "mimetype": "text/x-python",
      "name": "python",
      "nbconvert_exporter": "python",
      "pygments_lexer": "ipython3",
      "version": "3.8.5"
    },
    "colab": {
      "name": "Q16.ipynb",
      "provenance": []
    }
  },
  "nbformat": 4,
  "nbformat_minor": 0
}